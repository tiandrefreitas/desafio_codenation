{
  "nbformat": 4,
  "nbformat_minor": 0,
  "metadata": {
    "colab": {
      "name": "Enem_2016",
      "provenance": [],
      "authorship_tag": "ABX9TyNZaLLKaEBcPdnWI0qXJKMD",
      "include_colab_link": true
    },
    "kernelspec": {
      "name": "python3",
      "display_name": "Python 3"
    }
  },
  "cells": [
    {
      "cell_type": "markdown",
      "metadata": {
        "id": "view-in-github",
        "colab_type": "text"
      },
      "source": [
        "<a href=\"https://colab.research.google.com/github/tiandrefreitas/desafio_codenation/blob/master/Enem_2016.ipynb\" target=\"_parent\"><img src=\"https://colab.research.google.com/assets/colab-badge.svg\" alt=\"Open In Colab\"/></a>"
      ]
    },
    {
      "cell_type": "code",
      "metadata": {
        "id": "-ORxcFD6t-FY",
        "colab_type": "code",
        "colab": {}
      },
      "source": [
        "# Importar as bibliotecas a serem usadas\n",
        "import pandas as pd\n",
        "import numpy as np\n",
        "from sklearn import preprocessing\n",
        "from sklearn.ensemble import RandomForestRegressor\n",
        "from sklearn.pipeline import make_pipeline\n",
        "from sklearn.model_selection import GridSearchCV\n",
        "from sklearn.externals import joblib\n",
        "import matplotlib.pyplot as plt\n",
        "import seaborn as sns"
      ],
      "execution_count": 0,
      "outputs": []
    },
    {
      "cell_type": "code",
      "metadata": {
        "id": "N7TP9ORZyf98",
        "colab_type": "code",
        "colab": {}
      },
      "source": [
        "# Leitura dos datasets de treino e teste e criação do df de resposta\n",
        "df_train = pd.read_csv('train.csv')\n",
        "df_test = pd.read_csv('test.csv')\n",
        "df_resposta = pd.DataFrame()"
      ],
      "execution_count": 0,
      "outputs": []
    },
    {
      "cell_type": "code",
      "metadata": {
        "id": "iX-db4z91W5w",
        "colab_type": "code",
        "colab": {
          "base_uri": "https://localhost:8080/",
          "height": 34
        },
        "outputId": "627c1076-3c58-4ec4-aa1e-1e992ecef4ec"
      },
      "source": [
        "# Verificar se os dados de teste estão nos dados de treinamento\n",
        "print(set(df_test.columns).issubset(set(df_train.columns)))"
      ],
      "execution_count": 5,
      "outputs": [
        {
          "output_type": "stream",
          "text": [
            "True\n"
          ],
          "name": "stdout"
        }
      ]
    },
    {
      "cell_type": "code",
      "metadata": {
        "id": "1zQa3YqL1dhi",
        "colab_type": "code",
        "colab": {}
      },
      "source": [
        "# Salvar os dados das inscrições\n",
        "df_resposta['NU_INSCRICAO'] = df_test['NU_INSCRICAO']"
      ],
      "execution_count": 0,
      "outputs": []
    },
    {
      "cell_type": "code",
      "metadata": {
        "id": "YBEMcxNn2SdJ",
        "colab_type": "code",
        "colab": {}
      },
      "source": [
        "# Selecionar somente valores inteiros e floats\n",
        "df_test = df_test.select_dtypes(include=['int64','float64'])"
      ],
      "execution_count": 0,
      "outputs": []
    },
    {
      "cell_type": "code",
      "metadata": {
        "id": "PnMGbE0d2W8k",
        "colab_type": "code",
        "colab": {
          "base_uri": "https://localhost:8080/",
          "height": 235
        },
        "outputId": "c89389bc-419d-48a4-f741-b88bcb637c18"
      },
      "source": [
        "var = ['NU_IDADE','IN_TREINEIRO','NU_NOTA_CN','NU_NOTA_CH','NU_NOTA_LC','NU_NOTA_REDACAO']\n",
        "df_test[var].corr()"
      ],
      "execution_count": 8,
      "outputs": [
        {
          "output_type": "execute_result",
          "data": {
            "text/html": [
              "<div>\n",
              "<style scoped>\n",
              "    .dataframe tbody tr th:only-of-type {\n",
              "        vertical-align: middle;\n",
              "    }\n",
              "\n",
              "    .dataframe tbody tr th {\n",
              "        vertical-align: top;\n",
              "    }\n",
              "\n",
              "    .dataframe thead th {\n",
              "        text-align: right;\n",
              "    }\n",
              "</style>\n",
              "<table border=\"1\" class=\"dataframe\">\n",
              "  <thead>\n",
              "    <tr style=\"text-align: right;\">\n",
              "      <th></th>\n",
              "      <th>NU_IDADE</th>\n",
              "      <th>IN_TREINEIRO</th>\n",
              "      <th>NU_NOTA_CN</th>\n",
              "      <th>NU_NOTA_CH</th>\n",
              "      <th>NU_NOTA_LC</th>\n",
              "      <th>NU_NOTA_REDACAO</th>\n",
              "    </tr>\n",
              "  </thead>\n",
              "  <tbody>\n",
              "    <tr>\n",
              "      <th>NU_IDADE</th>\n",
              "      <td>1.000000</td>\n",
              "      <td>-0.293714</td>\n",
              "      <td>-0.105278</td>\n",
              "      <td>-0.048229</td>\n",
              "      <td>-0.079171</td>\n",
              "      <td>-0.161202</td>\n",
              "    </tr>\n",
              "    <tr>\n",
              "      <th>IN_TREINEIRO</th>\n",
              "      <td>-0.293714</td>\n",
              "      <td>1.000000</td>\n",
              "      <td>-0.009669</td>\n",
              "      <td>-0.032181</td>\n",
              "      <td>-0.004934</td>\n",
              "      <td>-0.014277</td>\n",
              "    </tr>\n",
              "    <tr>\n",
              "      <th>NU_NOTA_CN</th>\n",
              "      <td>-0.105278</td>\n",
              "      <td>-0.009669</td>\n",
              "      <td>1.000000</td>\n",
              "      <td>0.598574</td>\n",
              "      <td>0.545801</td>\n",
              "      <td>0.442692</td>\n",
              "    </tr>\n",
              "    <tr>\n",
              "      <th>NU_NOTA_CH</th>\n",
              "      <td>-0.048229</td>\n",
              "      <td>-0.032181</td>\n",
              "      <td>0.598574</td>\n",
              "      <td>1.000000</td>\n",
              "      <td>0.679993</td>\n",
              "      <td>0.537141</td>\n",
              "    </tr>\n",
              "    <tr>\n",
              "      <th>NU_NOTA_LC</th>\n",
              "      <td>-0.079171</td>\n",
              "      <td>-0.004934</td>\n",
              "      <td>0.545801</td>\n",
              "      <td>0.679993</td>\n",
              "      <td>1.000000</td>\n",
              "      <td>0.495745</td>\n",
              "    </tr>\n",
              "    <tr>\n",
              "      <th>NU_NOTA_REDACAO</th>\n",
              "      <td>-0.161202</td>\n",
              "      <td>-0.014277</td>\n",
              "      <td>0.442692</td>\n",
              "      <td>0.537141</td>\n",
              "      <td>0.495745</td>\n",
              "      <td>1.000000</td>\n",
              "    </tr>\n",
              "  </tbody>\n",
              "</table>\n",
              "</div>"
            ],
            "text/plain": [
              "                 NU_IDADE  IN_TREINEIRO  ...  NU_NOTA_LC  NU_NOTA_REDACAO\n",
              "NU_IDADE         1.000000     -0.293714  ...   -0.079171        -0.161202\n",
              "IN_TREINEIRO    -0.293714      1.000000  ...   -0.004934        -0.014277\n",
              "NU_NOTA_CN      -0.105278     -0.009669  ...    0.545801         0.442692\n",
              "NU_NOTA_CH      -0.048229     -0.032181  ...    0.679993         0.537141\n",
              "NU_NOTA_LC      -0.079171     -0.004934  ...    1.000000         0.495745\n",
              "NU_NOTA_REDACAO -0.161202     -0.014277  ...    0.495745         1.000000\n",
              "\n",
              "[6 rows x 6 columns]"
            ]
          },
          "metadata": {
            "tags": []
          },
          "execution_count": 8
        }
      ]
    },
    {
      "cell_type": "code",
      "metadata": {
        "id": "ny35md392znk",
        "colab_type": "code",
        "colab": {}
      },
      "source": [
        "features = ['NU_NOTA_CN','NU_NOTA_CH','NU_NOTA_LC','NU_NOTA_REDACAO']"
      ],
      "execution_count": 0,
      "outputs": []
    },
    {
      "cell_type": "code",
      "metadata": {
        "id": "JZiyAP-Q26a9",
        "colab_type": "code",
        "colab": {
          "base_uri": "https://localhost:8080/",
          "height": 360
        },
        "outputId": "70e9a26e-0c91-4775-e408-97ab8eec01b9"
      },
      "source": [
        "%matplotlib inline\n",
        "\n",
        "plt.figure(figsize=(4,4))\n",
        "sns.heatmap(df_test[features].corr(), annot=True,linewidths=0.5,linecolor='black',cmap='Blues')\n",
        "plt.xticks(rotation=90)\n",
        "plt.show()"
      ],
      "execution_count": 13,
      "outputs": [
        {
          "output_type": "display_data",
          "data": {
            "image/png": "[encoded data removed]",
            "text/plain": [
              "<Figure size 288x288 with 2 Axes>"
            ]
          },
          "metadata": {
            "tags": [],
            "needs_background": "light"
          }
        }
      ]
    },
    {
      "cell_type": "code",
      "metadata": {
        "id": "3uq2I7EH4bcI",
        "colab_type": "code",
        "colab": {}
      },
      "source": [
        "# Usando o loc com uma condição composta para obter somente registros com todas as provas\n",
        "df_train = df_train.loc[(df_train['NU_NOTA_CN'].notnull()) & (df_train['NU_NOTA_CH'].notnull())  & (df_train['NU_NOTA_LC'].notnull()) & (df_train['NU_NOTA_REDACAO'].notnull()) & (df_train['NU_NOTA_MT'].notnull())]"
      ],
      "execution_count": 0,
      "outputs": []
    },
    {
      "cell_type": "code",
      "metadata": {
        "id": "djMMP8M04dhl",
        "colab_type": "code",
        "colab": {
          "base_uri": "https://localhost:8080/",
          "height": 102
        },
        "outputId": "e0352cc8-4d0d-4fca-ee22-2d24200bb579"
      },
      "source": [
        "df_test[features].isnull().sum()"
      ],
      "execution_count": 15,
      "outputs": [
        {
          "output_type": "execute_result",
          "data": {
            "text/plain": [
              "NU_NOTA_CN         1134\n",
              "NU_NOTA_CH         1134\n",
              "NU_NOTA_LC         1199\n",
              "NU_NOTA_REDACAO    1199\n",
              "dtype: int64"
            ]
          },
          "metadata": {
            "tags": []
          },
          "execution_count": 15
        }
      ]
    },
    {
      "cell_type": "code",
      "metadata": {
        "id": "PA8jwKMC4yGF",
        "colab_type": "code",
        "colab": {}
      },
      "source": [
        "# Preencher valores nulos com o valor médio - Tratamento das notas de provas corrompidas\n",
        "df_train['NU_NOTA_CN'].fillna(df_train['NU_NOTA_CN'].mean(), inplace=True)\n",
        "df_train['NU_NOTA_CH'].fillna(df_train['NU_NOTA_CH'].mean(), inplace=True)\n",
        "df_train['NU_NOTA_REDACAO'].fillna(df_train['NU_NOTA_REDACAO'].mean(), inplace=True)\n",
        "df_train['NU_NOTA_LC'].fillna(df_train['NU_NOTA_LC'].mean(), inplace=True)\n",
        "df_test['NU_NOTA_CN'].fillna(df_train['NU_NOTA_CN'].mean(), inplace=True)\n",
        "df_test['NU_NOTA_CH'].fillna(df_train['NU_NOTA_CH'].mean(), inplace=True)\n",
        "df_test['NU_NOTA_REDACAO'].fillna(df_train['NU_NOTA_REDACAO'].mean(), inplace=True)\n",
        "df_test['NU_NOTA_LC'].fillna(df_train['NU_NOTA_LC'].mean(), inplace=True)"
      ],
      "execution_count": 0,
      "outputs": []
    },
    {
      "cell_type": "code",
      "metadata": {
        "id": "LpmBj06o40fd",
        "colab_type": "code",
        "colab": {}
      },
      "source": [
        "y = df_train['NU_NOTA_MT']"
      ],
      "execution_count": 0,
      "outputs": []
    },
    {
      "cell_type": "code",
      "metadata": {
        "id": "i_bIKqir42ae",
        "colab_type": "code",
        "colab": {}
      },
      "source": [
        "# Definição do dataset de treino somente com as informações relevantes para treinar o modelo\n",
        "features = ['NU_NOTA_CN','NU_NOTA_CH','NU_NOTA_LC','NU_NOTA_REDACAO']\n",
        "x_train = df_train[features]"
      ],
      "execution_count": 0,
      "outputs": []
    },
    {
      "cell_type": "code",
      "metadata": {
        "id": "Iq3M5G1v47gX",
        "colab_type": "code",
        "colab": {}
      },
      "source": [
        "# Ajustando o Transformer API\n",
        "scaler = preprocessing.StandardScaler().fit(x_train)"
      ],
      "execution_count": 0,
      "outputs": []
    },
    {
      "cell_type": "code",
      "metadata": {
        "id": "HK5hBkh24_wI",
        "colab_type": "code",
        "colab": {
          "base_uri": "https://localhost:8080/",
          "height": 68
        },
        "outputId": "70d5fb11-bd27-4559-dcb7-53ed32738313"
      },
      "source": [
        "X_train_scaled = scaler.transform(x_train)\n",
        "print('Média: {}'.format(X_train_scaled.mean(axis=1)))\n",
        "print('Desvio Padrão: {}'.format(X_train_scaled.std(axis=0)))"
      ],
      "execution_count": 21,
      "outputs": [
        {
          "output_type": "stream",
          "text": [
            "Média: [-0.03069405  0.43165148 -0.17994011 ...  0.25471651  0.20825568\n",
            "  0.3693551 ]\n",
            "Desvio Padrão: [1. 1. 1. 1.]\n"
          ],
          "name": "stdout"
        }
      ]
    },
    {
      "cell_type": "code",
      "metadata": {
        "id": "ljGMBJXP5cRg",
        "colab_type": "code",
        "colab": {}
      },
      "source": [
        "x_test = df_test[features]"
      ],
      "execution_count": 0,
      "outputs": []
    },
    {
      "cell_type": "code",
      "metadata": {
        "id": "49wOKLOo5fR6",
        "colab_type": "code",
        "colab": {}
      },
      "source": [
        "#n_estimators=100 (número de nós) , n_jobs=-1 ( todo o processamento possível) , warm_start=True (mantém o aprendizado e reprocessa o modelo, melhorando-o)\n",
        "pipeline = make_pipeline(preprocessing.StandardScaler(), RandomForestRegressor(n_estimators=200, n_jobs=-1, warm_start=True))\n"
      ],
      "execution_count": 0,
      "outputs": []
    },
    {
      "cell_type": "code",
      "metadata": {
        "id": "eX1yR2mv5m1N",
        "colab_type": "code",
        "colab": {}
      },
      "source": [
        "# max_features : O número de features a considerar quando pesquisar pela melhor separação (testará as 3 opções e identificará a melhor para o modelo)\n",
        "# max_depth :  Profundidade máxima da árvore de decisão. Se None (nenhuma), os nós serão expandidos até acabar as folhas ou até que elas contenham o mínimo valor de amostras possível.\n",
        "hyperparameters = { 'randomforestregressor__max_features' : ['auto', 'sqrt', 'log2'],\n",
        "                  'randomforestregressor__max_depth': [None, 5, 3, 1]}"
      ],
      "execution_count": 0,
      "outputs": []
    },
    {
      "cell_type": "code",
      "metadata": {
        "id": "J_-t4qV_5vZj",
        "colab_type": "code",
        "colab": {}
      },
      "source": [
        ""
      ],
      "execution_count": 0,
      "outputs": []
    },
    {
      "cell_type": "code",
      "metadata": {
        "id": "P7AgmvNB5xWf",
        "colab_type": "code",
        "colab": {
          "base_uri": "https://localhost:8080/",
          "height": 527
        },
        "outputId": "c5ff1f36-ec69-44d1-dab8-5fb4ae985b5a"
      },
      "source": [
        "# Ajustar e sintonizar o modelo\n",
        "clf = GridSearchCV(pipeline, hyperparameters, cv=10)\n",
        "clf.fit(X_train_scaled, y)"
      ],
      "execution_count": 26,
      "outputs": [
        {
          "output_type": "execute_result",
          "data": {
            "text/plain": [
              "GridSearchCV(cv=10, error_score=nan,\n",
              "             estimator=Pipeline(memory=None,\n",
              "                                steps=[('standardscaler',\n",
              "                                        StandardScaler(copy=True,\n",
              "                                                       with_mean=True,\n",
              "                                                       with_std=True)),\n",
              "                                       ('randomforestregressor',\n",
              "                                        RandomForestRegressor(bootstrap=True,\n",
              "                                                              ccp_alpha=0.0,\n",
              "                                                              criterion='mse',\n",
              "                                                              max_depth=None,\n",
              "                                                              max_features='auto',\n",
              "                                                              max_leaf_nodes=None,\n",
              "                                                              max_samples=None,\n",
              "                                                              min_impurity_decrease=0.0,\n",
              "                                                              min_impurity_...\n",
              "                                                              min_weight_fraction_leaf=0.0,\n",
              "                                                              n_estimators=200,\n",
              "                                                              n_jobs=-1,\n",
              "                                                              oob_score=False,\n",
              "                                                              random_state=None,\n",
              "                                                              verbose=0,\n",
              "                                                              warm_start=True))],\n",
              "                                verbose=False),\n",
              "             iid='deprecated', n_jobs=None,\n",
              "             param_grid={'randomforestregressor__max_depth': [None, 5, 3, 1],\n",
              "                         'randomforestregressor__max_features': ['auto', 'sqrt',\n",
              "                                                                 'log2']},\n",
              "             pre_dispatch='2*n_jobs', refit=True, return_train_score=False,\n",
              "             scoring=None, verbose=0)"
            ]
          },
          "metadata": {
            "tags": []
          },
          "execution_count": 26
        }
      ]
    },
    {
      "cell_type": "code",
      "metadata": {
        "id": "95_HMOn97qxL",
        "colab_type": "code",
        "colab": {
          "base_uri": "https://localhost:8080/",
          "height": 54
        },
        "outputId": "9d39e6bc-ccc6-4c5b-96c5-0d868bf9ac1c"
      },
      "source": [
        "print(clf.best_params_)"
      ],
      "execution_count": 27,
      "outputs": [
        {
          "output_type": "stream",
          "text": [
            "{'randomforestregressor__max_depth': 5, 'randomforestregressor__max_features': 'log2'}\n"
          ],
          "name": "stdout"
        }
      ]
    },
    {
      "cell_type": "code",
      "metadata": {
        "id": "G2YOBl7Q7xwF",
        "colab_type": "code",
        "colab": {}
      },
      "source": [
        "pred_notas = clf.predict(x_test)"
      ],
      "execution_count": 0,
      "outputs": []
    },
    {
      "cell_type": "code",
      "metadata": {
        "id": "8Uij8Xgi70K5",
        "colab_type": "code",
        "colab": {}
      },
      "source": [
        "df_resposta['NU_NOTA_MT'] = np.around(pred_notas,2)"
      ],
      "execution_count": 0,
      "outputs": []
    },
    {
      "cell_type": "code",
      "metadata": {
        "id": "ouqmsmU97128",
        "colab_type": "code",
        "colab": {
          "base_uri": "https://localhost:8080/",
          "height": 34
        },
        "outputId": "cfab624b-2730-41ac-9779-737df49f76e8"
      },
      "source": [
        "df_resposta['NU_NOTA_MT'].unique()"
      ],
      "execution_count": 30,
      "outputs": [
        {
          "output_type": "execute_result",
          "data": {
            "text/plain": [
              "array([808.99, 800.16, 481.76, 752.87, 755.31, 545.66])"
            ]
          },
          "metadata": {
            "tags": []
          },
          "execution_count": 30
        }
      ]
    },
    {
      "cell_type": "code",
      "metadata": {
        "id": "_pmwQmSf78rZ",
        "colab_type": "code",
        "colab": {}
      },
      "source": [
        "df_resposta.to_csv('answer.csv', index=False, header=True)"
      ],
      "execution_count": 0,
      "outputs": []
    },
    {
      "cell_type": "code",
      "metadata": {
        "id": "2D8IhOwD8DDb",
        "colab_type": "code",
        "colab": {
          "base_uri": "https://localhost:8080/",
          "height": 34
        },
        "outputId": "d5b61afc-9a17-4648-8593-cd0cf83fbe08"
      },
      "source": [
        "# Salvar o modelo preditivo\n",
        "joblib.dump(clf, 'rf_regressor.pkl')"
      ],
      "execution_count": 32,
      "outputs": [
        {
          "output_type": "execute_result",
          "data": {
            "text/plain": [
              "['rf_regressor.pkl']"
            ]
          },
          "metadata": {
            "tags": []
          },
          "execution_count": 32
        }
      ]
    }
  ]
}